{
 "cells": [
  {
   "cell_type": "markdown",
   "metadata": {},
   "source": [
    "# Loot hunting in some upredictable environment"
   ]
  },
  {
   "cell_type": "markdown",
   "metadata": {},
   "source": [
    "Format of the loot is the same:\n",
    "\n",
    "```\n",
    "LOOT:something\\n\n",
    "```\n",
    "\n",
    "Loot is hidden in 7 documents in web given by URL. Extensions of these files are `txt, jpg, pdf, docx, html, wav`. **Content of loot is English letters only, to numbers, spaces, spec.characters.**\n",
    "\n",
    "In all documents, expect audiofiles, format is preserved as shown with (maybe) space padding in the end. Audiofile just contains a single word.\n",
    "\n",
    "Input file gives you a direct link to the document. Print loot values to the output file."
   ]
  },
  {
   "cell_type": "markdown",
   "metadata": {},
   "source": [
    "# Codetest server opportunuties\n",
    "\n",
    "- Codetest has `requests` library to download the data.\n",
    "- Codetest has `textract` [library](https://textract.readthedocs.io/en/stable/). It will definitely work (somehow) for pdf and images. It can (and will) fail for speech and docx. But!\n",
    "- Codetest has `docx2python` [library](https://pypi.org/project/docx2python/).\n",
    "- Codetest has `speech_recognition` [installed](https://pypi.org/project/SpeechRecognition/). This snippet will work in your code:\n",
    "\n",
    "```\n",
    "import speech_recognition as sr\n",
    "r = sr.Recognizer()\n",
    "with sr.AudioFile('x.wav') as s:\n",
    "    r.recognize_sphinx(r.record(s))\n",
    "```\n",
    "\n",
    "- ... but it will give a wrong result for test :). Please, think how you can overcome this.\n",
    "- FireFox is installed, driver is downloaded, `selenium` is (must be) working with no additional tuning. I **BEG** you, please destroy instances of browsers.\n",
    "```\n",
    "from selenium import webdriver\n",
    "x = webdriver.Firefox()\n",
    "...\n",
    "x.quit()  # <---- like this\n",
    "```"
   ]
  },
  {
   "cell_type": "code",
   "execution_count": 17,
   "metadata": {},
   "outputs": [],
   "source": [
    "import textract\n",
    "from os import listdir\n",
    "from os.path import isfile, join\n",
    "import os\n",
    "import requests\n",
    "import mimetypes"
   ]
  },
  {
   "cell_type": "code",
   "execution_count": 4,
   "metadata": {},
   "outputs": [
    {
     "data": {
      "text/plain": [
       "'/home/romulus/Desktop/Innopolis/[Spring 2021] Advanced Information retrieval/Week 2/Contest'"
      ]
     },
     "execution_count": 4,
     "metadata": {},
     "output_type": "execute_result"
    }
   ],
   "source": [
    "mypath = os.getcwd()\n",
    "mypath"
   ]
  },
  {
   "cell_type": "code",
   "execution_count": 15,
   "metadata": {},
   "outputs": [
    {
     "data": {
      "text/plain": [
       "['2021S - Document parsing.ipynb', 'example.pdf']"
      ]
     },
     "execution_count": 15,
     "metadata": {},
     "output_type": "execute_result"
    }
   ],
   "source": [
    "onlyfiles = [f for f in listdir(mypath) if isfile(join(mypath, f))]\n",
    "onlyfiles"
   ]
  },
  {
   "cell_type": "code",
   "execution_count": 7,
   "metadata": {},
   "outputs": [
    {
     "name": "stdout",
     "output_type": "stream",
     "text": [
      "/home/romulus/Desktop/Innopolis/[Spring 2021] Advanced Information retrieval/Week 2/Contest\\2021S - Document parsing.ipynb\n"
     ]
    }
   ],
   "source": [
    "# example_pdf = mypath + '\\\\' + onlyfiles[0]\n",
    "# print(example_pdf)\n"
   ]
  },
  {
   "cell_type": "code",
   "execution_count": 16,
   "metadata": {},
   "outputs": [
    {
     "name": "stdout",
     "output_type": "stream",
     "text": [
      ".pdf\n",
      "yes\n"
     ]
    }
   ],
   "source": [
    "# print(onlyfiles)\n",
    "extension = os.path.splitext(mypath + '\\\\' + onlyfiles[1])[-1] \n",
    "print (extension) \n",
    "if extension in ['.pdf', '.html', '.jpg', '.txt']: \n",
    "    print(\"yes\") "
   ]
  },
  {
   "cell_type": "code",
   "execution_count": 26,
   "metadata": {},
   "outputs": [],
   "source": [
    "# url = 'https://pdfs.semanticscholar.org/2362/5e1488dba02c869c2996bafc5a7a9852f98b.pdf'\n",
    "url = 'https://sixsigmastudyguide.com/wp-content/uploads/2014/04/z-table.jpg '"
   ]
  },
  {
   "cell_type": "code",
   "execution_count": 27,
   "metadata": {},
   "outputs": [],
   "source": [
    "response = requests.get(url) "
   ]
  },
  {
   "cell_type": "code",
   "execution_count": 28,
   "metadata": {},
   "outputs": [],
   "source": [
    "content_type = response.headers['content-type'] "
   ]
  },
  {
   "cell_type": "code",
   "execution_count": 29,
   "metadata": {},
   "outputs": [],
   "source": [
    "extension = mimetypes.guess_extension(content_type) "
   ]
  },
  {
   "cell_type": "code",
   "execution_count": 30,
   "metadata": {},
   "outputs": [
    {
     "data": {
      "text/plain": [
       "'.jpe'"
      ]
     },
     "execution_count": 30,
     "metadata": {},
     "output_type": "execute_result"
    }
   ],
   "source": [
    "extension"
   ]
  },
  {
   "cell_type": "code",
   "execution_count": 31,
   "metadata": {},
   "outputs": [],
   "source": [
    "if extension == '.pdf':\n",
    "\n",
    "    pdf = requests.get(url)\n",
    "\n",
    "    with open('example.pdf', 'wb') as f:\n",
    "        f.write(pdf.content)\n",
    "\n",
    "    texts = textract.process('example.pdf', encoding='utf-8')\n"
   ]
  }
 ],
 "metadata": {
  "kernelspec": {
   "display_name": "Python 3",
   "language": "python",
   "name": "python3"
  }
 },
 "nbformat": 4,
 "nbformat_minor": 4
}
